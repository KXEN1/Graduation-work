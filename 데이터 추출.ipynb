{
 "cells": [
  {
   "cell_type": "code",
   "execution_count": 3,
   "id": "b28bd387-3703-488f-9e07-ca44ee095cc8",
   "metadata": {},
   "outputs": [
    {
     "name": "stderr",
     "output_type": "stream",
     "text": [
      "Using CPU. Note: This module is much faster with a GPU.\n"
     ]
    },
    {
     "name": "stdout",
     "output_type": "stream",
     "text": [
      "{\n",
      "    \"사업자번호\": [\n",
      "        \"307-21-61771\"\n",
      "    ],\n",
      "    \"가격\": [],\n",
      "    \"\\b가맹점명\": [\n",
      "        \"타임유\"\n",
      "    ],\n",
      "    \"거래일시\": [\n",
      "        \"2024-07-20 10:02:16\"\n",
      "    ],\n",
      "    \"품목별 가격\": [],\n",
      "    \"총 가격\": []\n",
      "}\n"
     ]
    }
   ],
   "source": [
    "import cv2\n",
    "import easyocr\n",
    "import json\n",
    "from PIL import Image, ImageDraw\n",
    "import re\n",
    "\n",
    "# EasyOCR reader 객체 생성 (한글 및 영어 지원)\n",
    "reader = easyocr.Reader(['ko', 'en'], gpu=False)\n",
    "\n",
    "def process_image(img):\n",
    "    # 이미지 읽기\n",
    "    image = cv2.imread(img)\n",
    "    if image is None:\n",
    "        raise Exception(f\"이미지를 읽을 수 없습니다: {img}\")\n",
    "    \n",
    "    # 이미지에서 텍스트 추출\n",
    "    results = reader.readtext(image)\n",
    "    \n",
    "    # 추출된 텍스트를 저장할 리스트\n",
    "    extracted_text = []\n",
    "    \n",
    "    # 파란색 상자를 그리기 위한 PIL 이미지로 변환\n",
    "    img = Image.fromarray(cv2.cvtColor(image, cv2.COLOR_BGR2RGB))\n",
    "    draw = ImageDraw.Draw(img)\n",
    "    \n",
    "    # 각 텍스트 주위에 상자를 그리고 텍스트를 저장\n",
    "    for detection in results:\n",
    "        bbox = detection[0]\n",
    "        text = detection[1]\n",
    "        extracted_text.append(text)\n",
    "        \n",
    "        # 상자 좌표\n",
    "        x_min, y_min = int(bbox[0][0]), int(bbox[0][1])\n",
    "        x_max, y_max = int(bbox[2][0]), int(bbox[2][1])\n",
    "        \n",
    "        # 상자 그리기\n",
    "        draw.rectangle([x_min, y_min, x_max, y_max], outline=\"blue\", width=2)\n",
    "        draw.text((x_min, y_min - 20), text, fill=\"blue\")\n",
    "    \n",
    "    # 정보 추출 함수들\n",
    "    def extract_business_numbers(text_list):\n",
    "        business_number_pattern = re.compile(r'\\b\\d{3}-\\d{2}-\\d{5}\\b')\n",
    "        return [match for text in text_list for match in business_number_pattern.findall(text)]\n",
    "    \n",
    "    def extract_prices(text_list):\n",
    "        price_pattern = re.compile(r'결제금액.*?([₩$€]?\\s?\\d{1,3}(?:,\\d{3})*(?:\\.\\d{2})?)')\n",
    "        return [match for text in text_list for match in price_pattern.findall(text)]\n",
    "    \n",
    "    def extract_store_names(text_list):\n",
    "        store_name_pattern = re.compile(r'(상호명|회사명|업체명|가맹점명|가맣점명)\\s*[:：]?\\s*(\\S+)')\n",
    "        return [match[1] for text in text_list for match in store_name_pattern.findall(text)]\n",
    "    \n",
    "    def extract_transaction_date(text_list):\n",
    "        date_pattern = re.compile(r'(거래일시|결제일시|거래일|결제날짜|날짜)\\s*[:：]?\\s*(\\d{4}[-/]\\d{2}[-/]\\d{2})\\s+(\\d{2}):\\s?(\\d{2}):\\s?(\\d{2})')\n",
    "        return [f\"{match[1]} {match[2]}:{match[3]}:{match[4]}\" for text in text_list for match in date_pattern.findall(text)]\n",
    "    \n",
    "    def extract_item_prices(text_list):\n",
    "        item_price_pattern = re.compile(r'(품목|아이템|상품)\\s*[:：]?\\s*(.*?)\\s*가격\\s*[:：]?\\s*([₩$€]?\\s?\\d{1,3}(?:,\\d{3})*(?:\\.\\d{2})?)')\n",
    "        return [(match[1], match[2]) for text in text_list for match in item_price_pattern.findall(text)]\n",
    "    \n",
    "    def extract_total_price(text_list):\n",
    "        total_price_pattern = re.compile(r'총\\s*가격\\s*[:：]?\\s*([₩$€]?\\s?\\d{1,3}(?:,\\d{3})*(?:\\.\\d{2})?)')\n",
    "        return [match for text in text_list for match in total_price_pattern.findall(text)]\n",
    "    \n",
    "    # 정보 추출\n",
    "    info_dict = {\n",
    "        \"사업자번호\": extract_business_numbers(extracted_text),\n",
    "        \"가격\": extract_prices(extracted_text),\n",
    "        \"\b가맹점명\": extract_store_names(extracted_text),\n",
    "        \"거래일시\": extract_transaction_date(extracted_text),\n",
    "        \"품목별 가격\": extract_item_prices(extracted_text),\n",
    "        \"총 가격\": extract_total_price(extracted_text)\n",
    "    }\n",
    "    \n",
    "    return info_dict\n",
    "\n",
    "# 이미지 처리 및 정보 추출\n",
    "a = process_image('bill2.jpeg')\n",
    "print(json.dumps(a, ensure_ascii=False, indent=4))\n"
   ]
  },
  {
   "cell_type": "code",
   "execution_count": null,
   "id": "0d237e6a-9e24-4b13-bd9b-e3b4622fc83a",
   "metadata": {},
   "outputs": [],
   "source": []
  }
 ],
 "metadata": {
  "kernelspec": {
   "display_name": "Python 3 (ipykernel)",
   "language": "python",
   "name": "python3"
  },
  "language_info": {
   "codemirror_mode": {
    "name": "ipython",
    "version": 3
   },
   "file_extension": ".py",
   "mimetype": "text/x-python",
   "name": "python",
   "nbconvert_exporter": "python",
   "pygments_lexer": "ipython3",
   "version": "3.12.1"
  }
 },
 "nbformat": 4,
 "nbformat_minor": 5
}
